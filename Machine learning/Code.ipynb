{
 "cells": [
  {
   "cell_type": "markdown",
   "metadata": {},
   "source": [
    "# Importing the packages needed"
   ]
  },
  {
   "cell_type": "code",
   "execution_count": 1,
   "metadata": {},
   "outputs": [],
   "source": [
    "import numpy as np\n",
    "import pandas as pd\n",
    "from sklearn.model_selection import train_test_split\n",
    "from sklearn.feature_extraction.text import CountVectorizer\n",
    "from sklearn.naive_bayes import MultinomialNB\n",
    "from sklearn.model_selection import GridSearchCV\n",
    "from sklearn.pipeline import Pipeline\n",
    "from sklearn.tree import DecisionTreeClassifier\n",
    "from sklearn.linear_model import LogisticRegression\n",
    "import scipy\n",
    "from scipy.sparse import csr_matrix\n",
    "import seaborn as sns\n",
    "import matplotlib.pyplot as plt\n",
    "from sklearn.metrics import plot_confusion_matrix"
   ]
  },
  {
   "cell_type": "markdown",
   "metadata": {},
   "source": [
    "# Loading data"
   ]
  },
  {
   "cell_type": "code",
   "execution_count": 2,
   "metadata": {},
   "outputs": [],
   "source": [
    "# importing data\n",
    "df = pd.read_csv('winemag-data-130k-v2.csv', index_col = 0)"
   ]
  },
  {
   "cell_type": "markdown",
   "metadata": {},
   "source": [
    "## Performing descriptive analytics"
   ]
  },
  {
   "cell_type": "code",
   "execution_count": 3,
   "metadata": {},
   "outputs": [
    {
     "data": {
      "text/plain": [
       "country                   object\n",
       "description               object\n",
       "designation               object\n",
       "points                     int64\n",
       "price                    float64\n",
       "province                  object\n",
       "region_1                  object\n",
       "region_2                  object\n",
       "taster_name               object\n",
       "taster_twitter_handle     object\n",
       "title                     object\n",
       "variety                   object\n",
       "winery                    object\n",
       "dtype: object"
      ]
     },
     "execution_count": 3,
     "metadata": {},
     "output_type": "execute_result"
    }
   ],
   "source": [
    "df.dtypes"
   ]
  },
  {
   "cell_type": "code",
   "execution_count": 4,
   "metadata": {},
   "outputs": [
    {
     "data": {
      "text/html": [
       "<div>\n",
       "<style scoped>\n",
       "    .dataframe tbody tr th:only-of-type {\n",
       "        vertical-align: middle;\n",
       "    }\n",
       "\n",
       "    .dataframe tbody tr th {\n",
       "        vertical-align: top;\n",
       "    }\n",
       "\n",
       "    .dataframe thead th {\n",
       "        text-align: right;\n",
       "    }\n",
       "</style>\n",
       "<table border=\"1\" class=\"dataframe\">\n",
       "  <thead>\n",
       "    <tr style=\"text-align: right;\">\n",
       "      <th></th>\n",
       "      <th>points</th>\n",
       "      <th>price</th>\n",
       "    </tr>\n",
       "  </thead>\n",
       "  <tbody>\n",
       "    <tr>\n",
       "      <th>count</th>\n",
       "      <td>129971.000000</td>\n",
       "      <td>120975.000000</td>\n",
       "    </tr>\n",
       "    <tr>\n",
       "      <th>mean</th>\n",
       "      <td>88.447138</td>\n",
       "      <td>35.363389</td>\n",
       "    </tr>\n",
       "    <tr>\n",
       "      <th>std</th>\n",
       "      <td>3.039730</td>\n",
       "      <td>41.022218</td>\n",
       "    </tr>\n",
       "    <tr>\n",
       "      <th>min</th>\n",
       "      <td>80.000000</td>\n",
       "      <td>4.000000</td>\n",
       "    </tr>\n",
       "    <tr>\n",
       "      <th>25%</th>\n",
       "      <td>86.000000</td>\n",
       "      <td>17.000000</td>\n",
       "    </tr>\n",
       "    <tr>\n",
       "      <th>50%</th>\n",
       "      <td>88.000000</td>\n",
       "      <td>25.000000</td>\n",
       "    </tr>\n",
       "    <tr>\n",
       "      <th>75%</th>\n",
       "      <td>91.000000</td>\n",
       "      <td>42.000000</td>\n",
       "    </tr>\n",
       "    <tr>\n",
       "      <th>max</th>\n",
       "      <td>100.000000</td>\n",
       "      <td>3300.000000</td>\n",
       "    </tr>\n",
       "  </tbody>\n",
       "</table>\n",
       "</div>"
      ],
      "text/plain": [
       "              points          price\n",
       "count  129971.000000  120975.000000\n",
       "mean       88.447138      35.363389\n",
       "std         3.039730      41.022218\n",
       "min        80.000000       4.000000\n",
       "25%        86.000000      17.000000\n",
       "50%        88.000000      25.000000\n",
       "75%        91.000000      42.000000\n",
       "max       100.000000    3300.000000"
      ]
     },
     "execution_count": 4,
     "metadata": {},
     "output_type": "execute_result"
    }
   ],
   "source": [
    "df.describe()"
   ]
  },
  {
   "cell_type": "code",
   "execution_count": 5,
   "metadata": {},
   "outputs": [
    {
     "data": {
      "text/plain": [
       "[Text(0.5, 0, '% missing value'),\n",
       " Text(0, 0.5, 'variable'),\n",
       " Text(0.5, 1.0, 'Missing values percentage')]"
      ]
     },
     "execution_count": 5,
     "metadata": {},
     "output_type": "execute_result"
    },
    {
     "data": {
      "image/png": "[encoded data removed]",
      "text/plain": [
       "<Figure size 432x288 with 1 Axes>"
      ]
     },
     "metadata": {},
     "output_type": "display_data"
    }
   ],
   "source": [
    "sns.set(rc = {'axes.facecolor':'white', 'figure.facecolor':'blue'})\n",
    "sns.set_context('paper', font_scale = 2)\n",
    "x = sns.barplot(x = np.array(df.isnull().sum())/df.shape[0], y = df.columns.tolist())\n",
    "x.set(xlabel = '% missing value', ylabel = 'variable', title = 'Missing values percentage')"
   ]
  },
  {
   "cell_type": "markdown",
   "metadata": {},
   "source": [
    "## Cleaning the data"
   ]
  },
  {
   "cell_type": "code",
   "execution_count": 6,
   "metadata": {
    "scrolled": true
   },
   "outputs": [
    {
     "data": {
      "text/html": [
       "<div>\n",
       "<style scoped>\n",
       "    .dataframe tbody tr th:only-of-type {\n",
       "        vertical-align: middle;\n",
       "    }\n",
       "\n",
       "    .dataframe tbody tr th {\n",
       "        vertical-align: top;\n",
       "    }\n",
       "\n",
       "    .dataframe thead th {\n",
       "        text-align: right;\n",
       "    }\n",
       "</style>\n",
       "<table border=\"1\" class=\"dataframe\">\n",
       "  <thead>\n",
       "    <tr style=\"text-align: right;\">\n",
       "      <th></th>\n",
       "      <th>country</th>\n",
       "      <th>description</th>\n",
       "      <th>points</th>\n",
       "      <th>price</th>\n",
       "      <th>province</th>\n",
       "      <th>region_1</th>\n",
       "      <th>taster_name</th>\n",
       "      <th>title</th>\n",
       "      <th>variety</th>\n",
       "      <th>winery</th>\n",
       "    </tr>\n",
       "  </thead>\n",
       "  <tbody>\n",
       "    <tr>\n",
       "      <th>2</th>\n",
       "      <td>US</td>\n",
       "      <td>Tart and snappy, the flavors of lime flesh and...</td>\n",
       "      <td>87</td>\n",
       "      <td>14.0</td>\n",
       "      <td>Oregon</td>\n",
       "      <td>Willamette Valley</td>\n",
       "      <td>Paul Gregutt</td>\n",
       "      <td>Rainstorm 2013 Pinot Gris (Willamette Valley)</td>\n",
       "      <td>Pinot Gris</td>\n",
       "      <td>Rainstorm</td>\n",
       "    </tr>\n",
       "    <tr>\n",
       "      <th>3</th>\n",
       "      <td>US</td>\n",
       "      <td>Pineapple rind, lemon pith and orange blossom ...</td>\n",
       "      <td>87</td>\n",
       "      <td>13.0</td>\n",
       "      <td>Michigan</td>\n",
       "      <td>Lake Michigan Shore</td>\n",
       "      <td>Alexander Peartree</td>\n",
       "      <td>St. Julian 2013 Reserve Late Harvest Riesling ...</td>\n",
       "      <td>Riesling</td>\n",
       "      <td>St. Julian</td>\n",
       "    </tr>\n",
       "    <tr>\n",
       "      <th>4</th>\n",
       "      <td>US</td>\n",
       "      <td>Much like the regular bottling from 2012, this...</td>\n",
       "      <td>87</td>\n",
       "      <td>65.0</td>\n",
       "      <td>Oregon</td>\n",
       "      <td>Willamette Valley</td>\n",
       "      <td>Paul Gregutt</td>\n",
       "      <td>Sweet Cheeks 2012 Vintner's Reserve Wild Child...</td>\n",
       "      <td>Pinot Noir</td>\n",
       "      <td>Sweet Cheeks</td>\n",
       "    </tr>\n",
       "    <tr>\n",
       "      <th>5</th>\n",
       "      <td>Spain</td>\n",
       "      <td>Blackberry and raspberry aromas show a typical...</td>\n",
       "      <td>87</td>\n",
       "      <td>15.0</td>\n",
       "      <td>Northern Spain</td>\n",
       "      <td>Navarra</td>\n",
       "      <td>Michael Schachner</td>\n",
       "      <td>Tandem 2011 Ars In Vitro Tempranillo-Merlot (N...</td>\n",
       "      <td>Tempranillo-Merlot</td>\n",
       "      <td>Tandem</td>\n",
       "    </tr>\n",
       "    <tr>\n",
       "      <th>6</th>\n",
       "      <td>Italy</td>\n",
       "      <td>Here's a bright, informal red that opens with ...</td>\n",
       "      <td>87</td>\n",
       "      <td>16.0</td>\n",
       "      <td>Sicily &amp; Sardinia</td>\n",
       "      <td>Vittoria</td>\n",
       "      <td>Kerin O’Keefe</td>\n",
       "      <td>Terre di Giurfo 2013 Belsito Frappato (Vittoria)</td>\n",
       "      <td>Frappato</td>\n",
       "      <td>Terre di Giurfo</td>\n",
       "    </tr>\n",
       "  </tbody>\n",
       "</table>\n",
       "</div>"
      ],
      "text/plain": [
       "  country                                        description  points  price  \\\n",
       "2      US  Tart and snappy, the flavors of lime flesh and...      87   14.0   \n",
       "3      US  Pineapple rind, lemon pith and orange blossom ...      87   13.0   \n",
       "4      US  Much like the regular bottling from 2012, this...      87   65.0   \n",
       "5   Spain  Blackberry and raspberry aromas show a typical...      87   15.0   \n",
       "6   Italy  Here's a bright, informal red that opens with ...      87   16.0   \n",
       "\n",
       "            province             region_1         taster_name  \\\n",
       "2             Oregon    Willamette Valley        Paul Gregutt   \n",
       "3           Michigan  Lake Michigan Shore  Alexander Peartree   \n",
       "4             Oregon    Willamette Valley        Paul Gregutt   \n",
       "5     Northern Spain              Navarra   Michael Schachner   \n",
       "6  Sicily & Sardinia             Vittoria       Kerin O’Keefe   \n",
       "\n",
       "                                               title             variety  \\\n",
       "2      Rainstorm 2013 Pinot Gris (Willamette Valley)          Pinot Gris   \n",
       "3  St. Julian 2013 Reserve Late Harvest Riesling ...            Riesling   \n",
       "4  Sweet Cheeks 2012 Vintner's Reserve Wild Child...          Pinot Noir   \n",
       "5  Tandem 2011 Ars In Vitro Tempranillo-Merlot (N...  Tempranillo-Merlot   \n",
       "6   Terre di Giurfo 2013 Belsito Frappato (Vittoria)            Frappato   \n",
       "\n",
       "            winery  \n",
       "2        Rainstorm  \n",
       "3       St. Julian  \n",
       "4     Sweet Cheeks  \n",
       "5           Tandem  \n",
       "6  Terre di Giurfo  "
      ]
     },
     "execution_count": 6,
     "metadata": {},
     "output_type": "execute_result"
    }
   ],
   "source": [
    "df = df.drop(columns = ['region_2', 'designation', 'taster_twitter_handle'])\n",
    "df = df.dropna()\n",
    "df.head()"
   ]
  },
  {
   "cell_type": "markdown",
   "metadata": {},
   "source": [
    "## Dividing points into 4 grade buckets as the response variable\n",
    "##### Grade 1: 96~100\n",
    "##### Grade 2: 91~95\n",
    "##### Grade 3: 86~90\n",
    "##### Grade 4: 80~85"
   ]
  },
  {
   "cell_type": "code",
   "execution_count": 7,
   "metadata": {},
   "outputs": [
    {
     "name": "stderr",
     "output_type": "stream",
     "text": [
      "C:\\Users\\smirn\\anaconda3\\lib\\site-packages\\pandas\\core\\indexing.py:670: SettingWithCopyWarning: \n",
      "A value is trying to be set on a copy of a slice from a DataFrame\n",
      "\n",
      "See the caveats in the documentation: https://pandas.pydata.org/pandas-docs/stable/user_guide/indexing.html#returning-a-view-versus-a-copy\n",
      "  iloc._setitem_with_indexer(indexer, value)\n"
     ]
    },
    {
     "data": {
      "text/html": [
       "<div>\n",
       "<style scoped>\n",
       "    .dataframe tbody tr th:only-of-type {\n",
       "        vertical-align: middle;\n",
       "    }\n",
       "\n",
       "    .dataframe tbody tr th {\n",
       "        vertical-align: top;\n",
       "    }\n",
       "\n",
       "    .dataframe thead th {\n",
       "        text-align: right;\n",
       "    }\n",
       "</style>\n",
       "<table border=\"1\" class=\"dataframe\">\n",
       "  <thead>\n",
       "    <tr style=\"text-align: right;\">\n",
       "      <th></th>\n",
       "      <th>country</th>\n",
       "      <th>description</th>\n",
       "      <th>points</th>\n",
       "      <th>price</th>\n",
       "      <th>province</th>\n",
       "      <th>region_1</th>\n",
       "      <th>taster_name</th>\n",
       "      <th>title</th>\n",
       "      <th>variety</th>\n",
       "      <th>winery</th>\n",
       "      <th>grades</th>\n",
       "    </tr>\n",
       "  </thead>\n",
       "  <tbody>\n",
       "    <tr>\n",
       "      <th>2</th>\n",
       "      <td>US</td>\n",
       "      <td>Tart and snappy, the flavors of lime flesh and...</td>\n",
       "      <td>87</td>\n",
       "      <td>14.0</td>\n",
       "      <td>Oregon</td>\n",
       "      <td>Willamette Valley</td>\n",
       "      <td>Paul Gregutt</td>\n",
       "      <td>Rainstorm 2013 Pinot Gris (Willamette Valley)</td>\n",
       "      <td>Pinot Gris</td>\n",
       "      <td>Rainstorm</td>\n",
       "      <td>3</td>\n",
       "    </tr>\n",
       "    <tr>\n",
       "      <th>3</th>\n",
       "      <td>US</td>\n",
       "      <td>Pineapple rind, lemon pith and orange blossom ...</td>\n",
       "      <td>87</td>\n",
       "      <td>13.0</td>\n",
       "      <td>Michigan</td>\n",
       "      <td>Lake Michigan Shore</td>\n",
       "      <td>Alexander Peartree</td>\n",
       "      <td>St. Julian 2013 Reserve Late Harvest Riesling ...</td>\n",
       "      <td>Riesling</td>\n",
       "      <td>St. Julian</td>\n",
       "      <td>3</td>\n",
       "    </tr>\n",
       "    <tr>\n",
       "      <th>4</th>\n",
       "      <td>US</td>\n",
       "      <td>Much like the regular bottling from 2012, this...</td>\n",
       "      <td>87</td>\n",
       "      <td>65.0</td>\n",
       "      <td>Oregon</td>\n",
       "      <td>Willamette Valley</td>\n",
       "      <td>Paul Gregutt</td>\n",
       "      <td>Sweet Cheeks 2012 Vintner's Reserve Wild Child...</td>\n",
       "      <td>Pinot Noir</td>\n",
       "      <td>Sweet Cheeks</td>\n",
       "      <td>3</td>\n",
       "    </tr>\n",
       "    <tr>\n",
       "      <th>5</th>\n",
       "      <td>Spain</td>\n",
       "      <td>Blackberry and raspberry aromas show a typical...</td>\n",
       "      <td>87</td>\n",
       "      <td>15.0</td>\n",
       "      <td>Northern Spain</td>\n",
       "      <td>Navarra</td>\n",
       "      <td>Michael Schachner</td>\n",
       "      <td>Tandem 2011 Ars In Vitro Tempranillo-Merlot (N...</td>\n",
       "      <td>Tempranillo-Merlot</td>\n",
       "      <td>Tandem</td>\n",
       "      <td>3</td>\n",
       "    </tr>\n",
       "    <tr>\n",
       "      <th>6</th>\n",
       "      <td>Italy</td>\n",
       "      <td>Here's a bright, informal red that opens with ...</td>\n",
       "      <td>87</td>\n",
       "      <td>16.0</td>\n",
       "      <td>Sicily &amp; Sardinia</td>\n",
       "      <td>Vittoria</td>\n",
       "      <td>Kerin O’Keefe</td>\n",
       "      <td>Terre di Giurfo 2013 Belsito Frappato (Vittoria)</td>\n",
       "      <td>Frappato</td>\n",
       "      <td>Terre di Giurfo</td>\n",
       "      <td>3</td>\n",
       "    </tr>\n",
       "  </tbody>\n",
       "</table>\n",
       "</div>"
      ],
      "text/plain": [
       "  country                                        description  points  price  \\\n",
       "2      US  Tart and snappy, the flavors of lime flesh and...      87   14.0   \n",
       "3      US  Pineapple rind, lemon pith and orange blossom ...      87   13.0   \n",
       "4      US  Much like the regular bottling from 2012, this...      87   65.0   \n",
       "5   Spain  Blackberry and raspberry aromas show a typical...      87   15.0   \n",
       "6   Italy  Here's a bright, informal red that opens with ...      87   16.0   \n",
       "\n",
       "            province             region_1         taster_name  \\\n",
       "2             Oregon    Willamette Valley        Paul Gregutt   \n",
       "3           Michigan  Lake Michigan Shore  Alexander Peartree   \n",
       "4             Oregon    Willamette Valley        Paul Gregutt   \n",
       "5     Northern Spain              Navarra   Michael Schachner   \n",
       "6  Sicily & Sardinia             Vittoria       Kerin O’Keefe   \n",
       "\n",
       "                                               title             variety  \\\n",
       "2      Rainstorm 2013 Pinot Gris (Willamette Valley)          Pinot Gris   \n",
       "3  St. Julian 2013 Reserve Late Harvest Riesling ...            Riesling   \n",
       "4  Sweet Cheeks 2012 Vintner's Reserve Wild Child...          Pinot Noir   \n",
       "5  Tandem 2011 Ars In Vitro Tempranillo-Merlot (N...  Tempranillo-Merlot   \n",
       "6   Terre di Giurfo 2013 Belsito Frappato (Vittoria)            Frappato   \n",
       "\n",
       "            winery  grades  \n",
       "2        Rainstorm       3  \n",
       "3       St. Julian       3  \n",
       "4     Sweet Cheeks       3  \n",
       "5           Tandem       3  \n",
       "6  Terre di Giurfo       3  "
      ]
     },
     "execution_count": 7,
     "metadata": {},
     "output_type": "execute_result"
    }
   ],
   "source": [
    "df['dummy'] = (100 - df['points'])/5\n",
    "df['dummy'] = df['dummy'].astype(int)\n",
    "df['grades'] = df['dummy'] + 1\n",
    "\n",
    "for i in range(len(df['grades'])):\n",
    "    if df['grades'].iloc[i] == 5:\n",
    "        df['grades'].iloc[i] = 4\n",
    "\n",
    "df = df.drop(columns = ['dummy'])\n",
    "df.head()"
   ]
  },
  {
   "cell_type": "markdown",
   "metadata": {},
   "source": [
    "## Combining description, province, and region_1 for bundle analysis in Model 2"
   ]
  },
  {
   "cell_type": "code",
   "execution_count": 8,
   "metadata": {},
   "outputs": [],
   "source": [
    "df['bundle'] = df['description'] + df['province'] + \" \" + df['region_1']"
   ]
  },
  {
   "cell_type": "markdown",
   "metadata": {},
   "source": [
    "## Use pd.get_dummies to code the columns country, province, region_1, winery, and variety"
   ]
  },
  {
   "cell_type": "code",
   "execution_count": 9,
   "metadata": {},
   "outputs": [],
   "source": [
    "df1 = df.drop(columns = ['points', 'price', 'taster_name', 'title', 'grades'])\n",
    "df1 = pd.get_dummies(df1, columns = ['country', 'province', 'variety', 'region_1', 'winery'], drop_first = True,\n",
    "                     sparse = True)"
   ]
  },
  {
   "cell_type": "markdown",
   "metadata": {},
   "source": [
    "## Spliting the dataset into training and testing sets"
   ]
  },
  {
   "cell_type": "code",
   "execution_count": 10,
   "metadata": {},
   "outputs": [],
   "source": [
    "X = df1\n",
    "y = df['grades']\n",
    "X_train, X_test, y_train, y_test = train_test_split(X, y, test_size = 0.2, random_state = 123)"
   ]
  },
  {
   "cell_type": "code",
   "execution_count": 11,
   "metadata": {},
   "outputs": [],
   "source": [
    "X_train = pd.DataFrame(X_train)\n",
    "X_test = pd.DataFrame(X_test)"
   ]
  },
  {
   "cell_type": "markdown",
   "metadata": {},
   "source": [
    "## The null model"
   ]
  },
  {
   "cell_type": "code",
   "execution_count": 12,
   "metadata": {},
   "outputs": [
    {
     "data": {
      "text/plain": [
       "[Text(0.5, 0, 'grades'),\n",
       " Text(0, 0.5, '% percentage counts'),\n",
       " Text(0.5, 1.0, '% counts of grades')]"
      ]
     },
     "execution_count": 12,
     "metadata": {},
     "output_type": "execute_result"
    },
    {
     "data": {
      "image/png": "[encoded data removed]",
      "text/plain": [
       "<Figure size 432x288 with 1 Axes>"
      ]
     },
     "metadata": {},
     "output_type": "display_data"
    }
   ],
   "source": [
    "x = sns.barplot(x = np.unique(df[\"grades\"]), y = np.array(df.groupby(['grades']).size()/df.shape[0]))\n",
    "x.set(xlabel = 'grades', ylabel = '% percentage counts', title = '% counts of grades')"
   ]
  },
  {
   "cell_type": "code",
   "execution_count": 13,
   "metadata": {},
   "outputs": [
    {
     "data": {
      "text/plain": [
       "3    0.583380\n",
       "2    0.269274\n",
       "4    0.140888\n",
       "1    0.006458\n",
       "Name: grades, dtype: float64"
      ]
     },
     "execution_count": 13,
     "metadata": {},
     "output_type": "execute_result"
    }
   ],
   "source": [
    "df['grades'].value_counts(normalize = True)"
   ]
  },
  {
   "cell_type": "markdown",
   "metadata": {},
   "source": [
    "# Model 1 (Using description to predict grades)"
   ]
  },
  {
   "cell_type": "markdown",
   "metadata": {},
   "source": [
    "## Vectorizing description"
   ]
  },
  {
   "cell_type": "code",
   "execution_count": 14,
   "metadata": {},
   "outputs": [],
   "source": [
    "cv = CountVectorizer(stop_words = 'english')\n",
    "X_train_1 = cv.fit_transform(X_train['description'])\n",
    "X_test_1 = cv.transform(X_test['description'])"
   ]
  },
  {
   "cell_type": "markdown",
   "metadata": {},
   "source": [
    "## Hyperparameter tuning using pipeline"
   ]
  },
  {
   "cell_type": "code",
   "execution_count": 15,
   "metadata": {},
   "outputs": [],
   "source": [
    "pipe = Pipeline([('classifier', MultinomialNB())])\n",
    "\n",
    "search_space = [{'classifier': [MultinomialNB()],\n",
    "                 'classifier__alpha': [0.01, 0.1, 1, 10]}]\n",
    "\n",
    "clf = GridSearchCV(pipe, search_space, cv = 10, verbose = 0)\n",
    "\n",
    "best_model = clf.fit(X_train_1, y_train)"
   ]
  },
  {
   "cell_type": "code",
   "execution_count": 16,
   "metadata": {},
   "outputs": [
    {
     "data": {
      "text/plain": [
       "{'classifier': MultinomialNB(alpha=1), 'classifier__alpha': 1}"
      ]
     },
     "execution_count": 16,
     "metadata": {},
     "output_type": "execute_result"
    }
   ],
   "source": [
    "best_model.best_estimator_.get_params()['classifier']\n",
    "best_model.best_params_"
   ]
  },
  {
   "cell_type": "markdown",
   "metadata": {},
   "source": [
    "## Error rates of the model"
   ]
  },
  {
   "cell_type": "code",
   "execution_count": 17,
   "metadata": {},
   "outputs": [
    {
     "name": "stdout",
     "output_type": "stream",
     "text": [
      "Best model mean validation error = 0.31\n",
      "Best model training error = 0.27\n",
      "Best model testing error = 0.31\n"
     ]
    }
   ],
   "source": [
    "print(f\"Best model mean validation error = {1 - best_model.best_score_:.2f}\")\n",
    "print(f\"Best model training error = {1 - best_model.score(X_train_1, y_train):.2f}\")\n",
    "print(f\"Best model testing error = {1 - best_model.score(X_test_1, y_test):.2f}\")"
   ]
  },
  {
   "cell_type": "markdown",
   "metadata": {},
   "source": [
    "# Model 2 (Using description, province, and region_1 to predict grades)"
   ]
  },
  {
   "cell_type": "markdown",
   "metadata": {},
   "source": [
    "## Vectorizing bundle"
   ]
  },
  {
   "cell_type": "code",
   "execution_count": 18,
   "metadata": {},
   "outputs": [],
   "source": [
    "X_train_2 = cv.fit_transform(X_train['bundle'])\n",
    "X_test_2 = cv.transform(X_test['bundle'])"
   ]
  },
  {
   "cell_type": "markdown",
   "metadata": {},
   "source": [
    "## Hyperparameter tuning using pipeline"
   ]
  },
  {
   "cell_type": "code",
   "execution_count": 19,
   "metadata": {},
   "outputs": [],
   "source": [
    "pipe = Pipeline([('classifier', MultinomialNB())])\n",
    "\n",
    "search_space = [{'classifier': [MultinomialNB()],\n",
    "                 'classifier__alpha': [0.01, 0.1, 1, 10]}]\n",
    "\n",
    "clf = GridSearchCV(pipe, search_space, cv = 10, verbose = 0)\n",
    "\n",
    "best_model = clf.fit(X_train_2, y_train)"
   ]
  },
  {
   "cell_type": "code",
   "execution_count": 20,
   "metadata": {},
   "outputs": [
    {
     "data": {
      "text/plain": [
       "{'classifier': MultinomialNB(alpha=1), 'classifier__alpha': 1}"
      ]
     },
     "execution_count": 20,
     "metadata": {},
     "output_type": "execute_result"
    }
   ],
   "source": [
    "best_model.best_estimator_.get_params()['classifier']\n",
    "best_model.best_params_"
   ]
  },
  {
   "cell_type": "markdown",
   "metadata": {},
   "source": [
    "## Error rates of the model"
   ]
  },
  {
   "cell_type": "code",
   "execution_count": 21,
   "metadata": {},
   "outputs": [
    {
     "name": "stdout",
     "output_type": "stream",
     "text": [
      "Best model mean validation error = 0.31\n",
      "Best model training error = 0.27\n",
      "Best model testing error = 0.31\n"
     ]
    }
   ],
   "source": [
    "print(f\"Best model mean validation error = {1 - best_model.best_score_:.2f}\")\n",
    "print(f\"Best model training error = {1 - best_model.score(X_train_2, y_train):.2f}\")\n",
    "print(f\"Best model testing error = {1 - best_model.score(X_test_2, y_test):.2f}\")"
   ]
  },
  {
   "cell_type": "markdown",
   "metadata": {},
   "source": [
    "# Model 3 (Using country, province, region_1, winery, and variety to predict grades)"
   ]
  },
  {
   "cell_type": "markdown",
   "metadata": {},
   "source": [
    "## Transforming the encoded variables into sparse matrix"
   ]
  },
  {
   "cell_type": "code",
   "execution_count": 22,
   "metadata": {},
   "outputs": [],
   "source": [
    "X_train_3 = scipy.sparse.csr_matrix(X_train.drop(columns = ['description', 'bundle']).values)\n",
    "X_test_3 = scipy.sparse.csr_matrix(X_test.drop(columns = ['description', 'bundle']).values)"
   ]
  },
  {
   "cell_type": "markdown",
   "metadata": {},
   "source": [
    "## Hyperparameter tuning using pipeline"
   ]
  },
  {
   "cell_type": "code",
   "execution_count": 23,
   "metadata": {},
   "outputs": [],
   "source": [
    "pipe = Pipeline([('classifier', MultinomialNB())])\n",
    "\n",
    "search_space = [{'classifier': [MultinomialNB()],\n",
    "                 'classifier__alpha': [0.01, 0.1, 1, 10]},\n",
    "               {'classifier': [DecisionTreeClassifier()],\n",
    "               'classifier__max_depth': [1, 5, 10, 15, 20]},\n",
    "               {'classifier': [LogisticRegression(multi_class = 'multinomial', solver = 'newton-cg')],\n",
    "                 'classifier__C': [0.01, 0.1, 1.0]}]\n",
    "\n",
    "clf = GridSearchCV(pipe, search_space, cv = 10, verbose = 0)\n",
    "\n",
    "best_model = clf.fit(X_train_3, y_train)"
   ]
  },
  {
   "cell_type": "code",
   "execution_count": 24,
   "metadata": {},
   "outputs": [
    {
     "data": {
      "text/plain": [
       "{'classifier': LogisticRegression(multi_class='multinomial', solver='newton-cg'),\n",
       " 'classifier__C': 1.0}"
      ]
     },
     "execution_count": 24,
     "metadata": {},
     "output_type": "execute_result"
    }
   ],
   "source": [
    "best_model.best_estimator_.get_params()['classifier']\n",
    "best_model.best_params_"
   ]
  },
  {
   "cell_type": "markdown",
   "metadata": {},
   "source": [
    "## Error rates of the model"
   ]
  },
  {
   "cell_type": "code",
   "execution_count": 25,
   "metadata": {},
   "outputs": [
    {
     "name": "stdout",
     "output_type": "stream",
     "text": [
      "Best model mean validation error = 0.32\n",
      "Best model training error = 0.25\n",
      "Best model testing error = 0.32\n"
     ]
    }
   ],
   "source": [
    "print(f\"Best model mean validation error = {1 - best_model.best_score_:.2f}\")\n",
    "print(f\"Best model training error = {1 - best_model.score(X_train_3, y_train):.2f}\")\n",
    "print(f\"Best model testing error = {1 - best_model.score(X_test_3, y_test):.2f}\")"
   ]
  },
  {
   "cell_type": "markdown",
   "metadata": {},
   "source": [
    "## Confusion Matrix for Logistic model"
   ]
  },
  {
   "cell_type": "code",
   "execution_count": 26,
   "metadata": {},
   "outputs": [
    {
     "data": {
      "text/plain": [
       "<sklearn.metrics._plot.confusion_matrix.ConfusionMatrixDisplay at 0x28d5cb4a640>"
      ]
     },
     "execution_count": 26,
     "metadata": {},
     "output_type": "execute_result"
    },
    {
     "data": {
      "image/png": "[encoded data removed]",
      "text/plain": [
       "<Figure size 432x288 with 2 Axes>"
      ]
     },
     "metadata": {},
     "output_type": "display_data"
    }
   ],
   "source": [
    "plot_confusion_matrix(best_model, X_test_3, y_test, cmap = 'YlGn', values_format = '.0f')"
   ]
  },
  {
   "cell_type": "markdown",
   "metadata": {},
   "source": [
    "## Finding out the 10 items with the highest coefficients"
   ]
  },
  {
   "cell_type": "code",
   "execution_count": 27,
   "metadata": {},
   "outputs": [],
   "source": [
    "model = LogisticRegression(multi_class = 'multinomial', solver = 'newton-cg',C = 1.0).fit(X_train_3, y_train)"
   ]
  },
  {
   "cell_type": "code",
   "execution_count": 28,
   "metadata": {},
   "outputs": [],
   "source": [
    "beta_coef = pd.DataFrame({'names': X_train.drop(columns = ['description', 'bundle']).columns[0:],\n",
    "              'coefs': (abs(pd.DataFrame(model.coef_)).sum())}).sort_values(by = 'coefs', ascending = False)"
   ]
  },
  {
   "cell_type": "code",
   "execution_count": 29,
   "metadata": {},
   "outputs": [
    {
     "data": {
      "text/html": [
       "<div>\n",
       "<style scoped>\n",
       "    .dataframe tbody tr th:only-of-type {\n",
       "        vertical-align: middle;\n",
       "    }\n",
       "\n",
       "    .dataframe tbody tr th {\n",
       "        vertical-align: top;\n",
       "    }\n",
       "\n",
       "    .dataframe thead th {\n",
       "        text-align: right;\n",
       "    }\n",
       "</style>\n",
       "<table border=\"1\" class=\"dataframe\">\n",
       "  <thead>\n",
       "    <tr style=\"text-align: right;\">\n",
       "      <th></th>\n",
       "      <th>names</th>\n",
       "      <th>coefs</th>\n",
       "    </tr>\n",
       "  </thead>\n",
       "  <tbody>\n",
       "    <tr>\n",
       "      <th>11470</th>\n",
       "      <td>winery_Schramsberg</td>\n",
       "      <td>6.650860</td>\n",
       "    </tr>\n",
       "    <tr>\n",
       "      <th>13185</th>\n",
       "      <td>winery_Williams Selyem</td>\n",
       "      <td>6.523971</td>\n",
       "    </tr>\n",
       "    <tr>\n",
       "      <th>1353</th>\n",
       "      <td>region_1_Saint-Julien</td>\n",
       "      <td>6.350113</td>\n",
       "    </tr>\n",
       "    <tr>\n",
       "      <th>642</th>\n",
       "      <td>region_1_Bourgogne</td>\n",
       "      <td>6.062570</td>\n",
       "    </tr>\n",
       "    <tr>\n",
       "      <th>3495</th>\n",
       "      <td>winery_Cayuse</td>\n",
       "      <td>6.029238</td>\n",
       "    </tr>\n",
       "    <tr>\n",
       "      <th>1879</th>\n",
       "      <td>winery_Alpha Omega</td>\n",
       "      <td>6.026014</td>\n",
       "    </tr>\n",
       "    <tr>\n",
       "      <th>10889</th>\n",
       "      <td>winery_Quilceda Creek</td>\n",
       "      <td>5.994515</td>\n",
       "    </tr>\n",
       "    <tr>\n",
       "      <th>8419</th>\n",
       "      <td>winery_Ken Wright</td>\n",
       "      <td>5.839398</td>\n",
       "    </tr>\n",
       "    <tr>\n",
       "      <th>6332</th>\n",
       "      <td>winery_Domaine Zind-Humbrecht</td>\n",
       "      <td>5.635263</td>\n",
       "    </tr>\n",
       "    <tr>\n",
       "      <th>2480</th>\n",
       "      <td>winery_Betz Family</td>\n",
       "      <td>5.609781</td>\n",
       "    </tr>\n",
       "  </tbody>\n",
       "</table>\n",
       "</div>"
      ],
      "text/plain": [
       "                               names     coefs\n",
       "11470             winery_Schramsberg  6.650860\n",
       "13185         winery_Williams Selyem  6.523971\n",
       "1353           region_1_Saint-Julien  6.350113\n",
       "642               region_1_Bourgogne  6.062570\n",
       "3495                   winery_Cayuse  6.029238\n",
       "1879              winery_Alpha Omega  6.026014\n",
       "10889          winery_Quilceda Creek  5.994515\n",
       "8419               winery_Ken Wright  5.839398\n",
       "6332   winery_Domaine Zind-Humbrecht  5.635263\n",
       "2480              winery_Betz Family  5.609781"
      ]
     },
     "execution_count": 29,
     "metadata": {},
     "output_type": "execute_result"
    }
   ],
   "source": [
    "beta_coef[0:10]"
   ]
  },
  {
   "cell_type": "markdown",
   "metadata": {},
   "source": [
    "# Model 4 (Using winery to predict grades)"
   ]
  },
  {
   "cell_type": "markdown",
   "metadata": {},
   "source": [
    "## Transforming the encoded variables into sparse matrix"
   ]
  },
  {
   "cell_type": "code",
   "execution_count": 30,
   "metadata": {},
   "outputs": [],
   "source": [
    "X_train_4 = scipy.sparse.csr_matrix(X_train.filter(regex = 'winery').values)\n",
    "X_test_4 = scipy.sparse.csr_matrix(X_test.filter(regex = 'winery').values)"
   ]
  },
  {
   "cell_type": "markdown",
   "metadata": {},
   "source": [
    "## Hyperparameter tuning using pipeline"
   ]
  },
  {
   "cell_type": "code",
   "execution_count": 31,
   "metadata": {},
   "outputs": [],
   "source": [
    "pipe = Pipeline([('classifier', MultinomialNB())])\n",
    "\n",
    "search_space = [{'classifier': [MultinomialNB()],\n",
    "                 'classifier__alpha': [0.01, 0.1, 1, 10]},\n",
    "               {'classifier': [DecisionTreeClassifier()],\n",
    "               'classifier__max_depth': [1, 5, 10, 15, 20]},\n",
    "               {'classifier': [LogisticRegression(multi_class = 'multinomial', solver = 'newton-cg')],\n",
    "                 'classifier__C': [0.01, 0.1, 1.0]}]\n",
    "\n",
    "clf = GridSearchCV(pipe, search_space, cv = 10, verbose = 0)\n",
    "\n",
    "best_model = clf.fit(X_train_4, y_train)"
   ]
  },
  {
   "cell_type": "code",
   "execution_count": 32,
   "metadata": {},
   "outputs": [
    {
     "data": {
      "text/plain": [
       "{'classifier': MultinomialNB(alpha=0.1), 'classifier__alpha': 0.1}"
      ]
     },
     "execution_count": 32,
     "metadata": {},
     "output_type": "execute_result"
    }
   ],
   "source": [
    "best_model.best_estimator_.get_params()['classifier']\n",
    "best_model.best_params_"
   ]
  },
  {
   "cell_type": "markdown",
   "metadata": {},
   "source": [
    "## Error rates of the model"
   ]
  },
  {
   "cell_type": "code",
   "execution_count": 33,
   "metadata": {},
   "outputs": [
    {
     "name": "stdout",
     "output_type": "stream",
     "text": [
      "Best model mean validation error = 0.35\n",
      "Best model training error = 0.27\n",
      "Best model testing error = 0.35\n"
     ]
    }
   ],
   "source": [
    "print(f\"Best model mean validation error = {1 - best_model.best_score_:.2f}\")\n",
    "print(f\"Best model training error = {1 - best_model.score(X_train_4, y_train):.2f}\")\n",
    "print(f\"Best model testing error = {1 - best_model.score(X_test_4, y_test):.2f}\")"
   ]
  },
  {
   "cell_type": "code",
   "execution_count": null,
   "metadata": {},
   "outputs": [],
   "source": []
  }
 ],
 "metadata": {
  "kernelspec": {
   "display_name": "Python 3",
   "language": "python",
   "name": "python3"
  },
  "language_info": {
   "codemirror_mode": {
    "name": "ipython",
    "version": 3
   },
   "file_extension": ".py",
   "mimetype": "text/x-python",
   "name": "python",
   "nbconvert_exporter": "python",
   "pygments_lexer": "ipython3",
   "version": "3.8.5"
  }
 },
 "nbformat": 4,
 "nbformat_minor": 2
}
